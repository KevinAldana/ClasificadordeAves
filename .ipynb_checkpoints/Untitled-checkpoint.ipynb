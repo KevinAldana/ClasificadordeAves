{
 "cells": [
  {
   "cell_type": "code",
   "execution_count": 22,
   "id": "e73dbe74",
   "metadata": {},
   "outputs": [
    {
     "name": "stdout",
     "output_type": "stream",
     "text": [
      "Requirement already satisfied: mysql.connector in c:\\users\\kevin\\.conda\\envs\\apideep\\lib\\site-packages (2.2.9)\n",
      "Collecting mysql-connector-python\n",
      "  Downloading mysql_connector_python-8.0.31-cp37-cp37m-win_amd64.whl (7.9 MB)\n",
      "     ---------------------------------------- 7.9/7.9 MB 5.6 MB/s eta 0:00:00\n",
      "Requirement already satisfied: protobuf<=3.20.1,>=3.11.0 in c:\\users\\kevin\\.conda\\envs\\apideep\\lib\\site-packages (from mysql-connector-python) (3.20.1)\n",
      "Installing collected packages: mysql-connector-python\n",
      "Successfully installed mysql-connector-python-8.0.31\n"
     ]
    }
   ],
   "source": [
    "\n",
    "!pip3 install mysql.connector\n",
    "!pip install mysql-connector-python\n"
   ]
  },
  {
   "cell_type": "code",
   "execution_count": 24,
   "id": "89b586fa",
   "metadata": {},
   "outputs": [],
   "source": [
    "import pymysql\n",
    "import pandas as pd\n",
    "import mysql.connector\n"
   ]
  },
  {
   "cell_type": "code",
   "execution_count": 25,
   "id": "1a97a6a8",
   "metadata": {},
   "outputs": [],
   "source": [
    "miConexion = mysql.connector.connect( host='localhost', user= 'root', passwd='operation654321', db='electiva1' )"
   ]
  },
  {
   "cell_type": "code",
   "execution_count": 27,
   "id": "0e00ca22",
   "metadata": {},
   "outputs": [
    {
     "name": "stdout",
     "output_type": "stream",
     "text": [
      "Abelardo Adrian adriaaanroosales@gmail.com\n",
      "Danilo Ivan Rosales Danilo@hotmail.com\n",
      "Danilo Gustavo Cadillo Danilogmail.com\n",
      "Fiorella Irma Fiorella@gmail.com\n",
      "Jorge Hugo Hugo@gmail.com\n"
     ]
    }
   ],
   "source": [
    "cur = miConexion.cursor()\n",
    "cur.execute( \"SELECT nombre_usuario, correo FROM usuarios\" )\n",
    "for nombre_usuario, correo in cur.fetchall() :\n",
    "    print (nombre_usuario, correo)\n",
    "miConexion.close()"
   ]
  },
  {
   "cell_type": "code",
   "execution_count": null,
   "id": "f3483d90",
   "metadata": {},
   "outputs": [],
   "source": [
    "cur = miConexion.cursor()\n",
    "sql= \"INSERT INTO usuarios (nombre_usuario, correo) values(%s $s) \"\n",
    "datos=(\"Kevin Aldana\", \"Kevin23-01@hotmail.com\")\n",
    "cur.execute(sql, datos)\n",
    "miConexion.close()"
   ]
  }
 ],
 "metadata": {
  "kernelspec": {
   "display_name": "Python 3 (ipykernel)",
   "language": "python",
   "name": "python3"
  },
  "language_info": {
   "codemirror_mode": {
    "name": "ipython",
    "version": 3
   },
   "file_extension": ".py",
   "mimetype": "text/x-python",
   "name": "python",
   "nbconvert_exporter": "python",
   "pygments_lexer": "ipython3",
   "version": "3.7.7"
  }
 },
 "nbformat": 4,
 "nbformat_minor": 5
}
